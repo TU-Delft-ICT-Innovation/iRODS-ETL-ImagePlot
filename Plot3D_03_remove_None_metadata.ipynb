{
 "cells": [
  {
   "cell_type": "markdown",
   "metadata": {},
   "source": [
    "# Modify metadata - remove 'None' metadata values and add empty ones"
   ]
  },
  {
   "cell_type": "markdown",
   "metadata": {},
   "source": [
    "## Set up"
   ]
  },
  {
   "cell_type": "code",
   "execution_count": null,
   "metadata": {},
   "outputs": [],
   "source": [
    "import os\n",
    "from irods.session import iRODSSession\n",
    "\n",
    "cred_path = \"D:/iRods_credentials.txt\" #file containing iRODS credentials\n",
    "irods_home = \"/tempZone/home/garys\" #iRODS home collection\n",
    "sourceTree = \"Y:/garys\" #same iRODS home collection, but mapped as a disc drive with davrods"
   ]
  },
  {
   "cell_type": "markdown",
   "metadata": {},
   "source": [
    "## Get an iRODS session"
   ]
  },
  {
   "cell_type": "code",
   "execution_count": null,
   "metadata": {},
   "outputs": [],
   "source": [
    "creds = [line.rstrip('\\n') for line in open(cred_path, \"r\")]\n",
    "\n",
    "with iRODSSession(host=creds[0], port=creds[1], user=creds[2], password=creds[3], zone=creds[4], \\\n",
    "                  #client_user=creds[5], \\\n",
    "                  client_server_negotiation = \"request_server_negotiation\", client_server_policy = \"CS_NEG_REQUIRE\", \\\n",
    "                  encryption_algorithm = \"AES-256-CBC\", encryption_key_size = 32, encryption_num_hash_rounds = 16, \\\n",
    "                  encryption_salt_size = 8) as session:\n",
    "    print ('Got A Session', session)\n",
    "    pass\n",
    "\n",
    "collection = session.collections.get(irods_home)\n",
    "print(collection)"
   ]
  },
  {
   "cell_type": "markdown",
   "metadata": {},
   "source": [
    "## Loop over Collections"
   ]
  },
  {
   "cell_type": "code",
   "execution_count": null,
   "metadata": {},
   "outputs": [],
   "source": [
    "metadata_file = open(\"D:\\metadataNone.txt\", \"w\")\n",
    "for sourceDir, subdirList, fileList in os.walk(sourceTree):\n",
    "    rodsDir = irods_home+sourceDir[len(sourceTree):]\n",
    "    rodsDir = rodsDir.replace('\\\\', '/')\n",
    "    #print(rodsDir)\n",
    "    if session.collections.exists(rodsDir):\n",
    "        obj = session.collections.get(rodsDir)\n",
    "        for item in obj.metadata.items():\n",
    "            if item.value.strip() == \"None\":\n",
    "                metadata_file.write(\"imeta rmw -C \"+rodsDir+\" \"+item.name.strip()+\" % %\\n\")\n",
    "            if item.units == '\\n':\n",
    "            #if item.units != None:\n",
    "                print(repr(item.name), repr(item.value), repr(item.units))\n",
    "                metadata_file.write(\"imeta rmw -C \"+rodsDir+\" \"+item.name.strip()+\" % % \\n\")\n",
    "                metadata_file.write(\"imeta add -C \"+rodsDir+\" '\"+item.name.strip()+\"' '\"+item.value+\"' '' \\n\")\n",
    "metadata_file.close()"
   ]
  }
 ],
 "metadata": {
  "kernelspec": {
   "display_name": "Python 2",
   "language": "python",
   "name": "python2"
  },
  "language_info": {
   "codemirror_mode": {
    "name": "ipython",
    "version": 2
   },
   "file_extension": ".py",
   "mimetype": "text/x-python",
   "name": "python",
   "nbconvert_exporter": "python",
   "pygments_lexer": "ipython2",
   "version": "2.7.14"
  }
 },
 "nbformat": 4,
 "nbformat_minor": 2
}
