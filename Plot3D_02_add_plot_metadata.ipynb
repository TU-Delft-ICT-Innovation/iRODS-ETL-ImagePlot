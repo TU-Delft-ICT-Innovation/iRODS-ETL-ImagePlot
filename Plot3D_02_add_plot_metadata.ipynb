{
 "cells": [
  {
   "cell_type": "markdown",
   "metadata": {},
   "source": [
    "# Modify metadata - add plot metadata"
   ]
  },
  {
   "cell_type": "markdown",
   "metadata": {},
   "source": [
    "## Set up"
   ]
  },
  {
   "cell_type": "code",
   "execution_count": null,
   "metadata": {},
   "outputs": [],
   "source": [
    "import os\n",
    "from irods.session import iRODSSession\n",
    "\n",
    "cred_path = \"D:/iRods_credentials.txt\" #file containing iRODS credentials\n",
    "irods_home = \"/tempZone/home/garys\" #iRODS home collection\n",
    "sourceTree = \"Y:/garys\" #same iRODS home collection, but mapped as a disc drive with davrods"
   ]
  },
  {
   "cell_type": "markdown",
   "metadata": {},
   "source": [
    "## Get an iRODS session"
   ]
  },
  {
   "cell_type": "code",
   "execution_count": null,
   "metadata": {},
   "outputs": [],
   "source": [
    "creds = [line.rstrip('\\n') for line in open(cred_path, \"r\")]\n",
    "\n",
    "with iRODSSession(host=creds[0], port=creds[1], user=creds[2], password=creds[3], zone=creds[4], \\\n",
    "                  #client_user=creds[5], \\\n",
    "                  client_server_negotiation = \"request_server_negotiation\", client_server_policy = \"CS_NEG_REQUIRE\", \\\n",
    "                  encryption_algorithm = \"AES-256-CBC\", encryption_key_size = 32, encryption_num_hash_rounds = 16, \\\n",
    "                  encryption_salt_size = 8) as session:\n",
    "    print ('Got A Session', session)\n",
    "    pass\n",
    "\n",
    "collection = session.collections.get(irods_home)\n",
    "print(collection)"
   ]
  },
  {
   "cell_type": "code",
   "execution_count": null,
   "metadata": {},
   "outputs": [],
   "source": [
    "class Data:\n",
    "    \n",
    "    def __init__(self, filename):\n",
    "        # initialise the experimental data by reading the header from the data (.dat) file\n",
    "        self.process = True # should this experiment be processed?\n",
    "        self.axes = []      # axes labels\n",
    "        self.columns = {}   # column labels and index numbers\n",
    "        with open(filename) as f:\n",
    "            lines = [line.rstrip('\\n') for line in open(filename)]\n",
    "            line = 3\n",
    "            col_no = 1\n",
    "            while lines[line].find(\"Column\") != -1:\n",
    "                if lines[line+3].find(\"type: coordinate\") > 0:\n",
    "                    axis_text = lines[line+1][lines[line+1].find(\": \")+2:]\n",
    "                    self.axes.append(axis_text)\n",
    "                    line += 4\n",
    "                elif lines[line+2].find(\"type: value\") > 0:\n",
    "                    column_text = lines[line+1][lines[line+1].find(\": \")+2:]\n",
    "                    self.columns[column_text]=col_no\n",
    "                    line += 3\n",
    "                col_no += 1\n",
    "        if len(self.axes) < 2: self.process = False"
   ]
  },
  {
   "cell_type": "markdown",
   "metadata": {},
   "source": [
    "## Loop over Collections"
   ]
  },
  {
   "cell_type": "code",
   "execution_count": null,
   "metadata": {},
   "outputs": [],
   "source": [
    "for sourceDir, subdirList, fileList in os.walk(sourceTree):\n",
    "    for fname in fileList:\n",
    "        if fname.endswith(\".dat\"):\n",
    "            try:\n",
    "                d = Data(os.path.join(sourceDir,fname))\n",
    "                sourceColl = irods_home+sourceDir[len(sourceTree):]\n",
    "                sourceColl = sourceColl.replace('\\\\', '/')\n",
    "                #print(sourceColl)\n",
    "                collection = session.collections.get(sourceColl)\n",
    "                #print(sourceDir+\" number of axes is \"+str(len(d.axes))+\" number of columns is \"+str(len(d.columns)))\n",
    "                try:\n",
    "                    collection.metadata.add(\"no_of_axes\",str(len(d.axes)))\n",
    "                except:\n",
    "                    print(sourceDir+\" could not add metadata number_of_axes \"+str(len(d.axes)))\n",
    "                try:\n",
    "                    collection.metadata.add(\"no_of_data_columns\",str(len(d.columns)))\n",
    "                except:\n",
    "                    print(sourceDir+\" could not add metadata no_of_data_columns \"+str(len(d.axes)))\n",
    "                try:\n",
    "                    metadata = collection.metadata.get_one(\"number_of_plots\")\n",
    "                    collection.metadata.remove(\"number_of_plots\",metadata.value)\n",
    "                except:\n",
    "                    print(sourceDir+\" could not remove metadata number_of_plots\")\n",
    "                for col_text, col_no in d.columns.items():\n",
    "                    gfile = irods_home+sourceDir[len(sourceTree):]+\"/\"+fname+\"_plot_\"+str(col_no)+\".jpg\"\n",
    "                    gfile = gfile.replace('\\\\', '/')\n",
    "                    try:                        \n",
    "                        data_object = session.data_objects.get(gfile)\n",
    "                        data_object.metadata.add(\"plot_label\",col_text)\n",
    "                    except:\n",
    "                        print(\"SOMETHING ODD \"+gfile)\n",
    "            except:\n",
    "                print(sourceDir+\" something odd\")"
   ]
  }
 ],
 "metadata": {
  "kernelspec": {
   "display_name": "Python 2",
   "language": "python",
   "name": "python2"
  },
  "language_info": {
   "codemirror_mode": {
    "name": "ipython",
    "version": 2
   },
   "file_extension": ".py",
   "mimetype": "text/x-python",
   "name": "python",
   "nbconvert_exporter": "python",
   "pygments_lexer": "ipython2",
   "version": "2.7.14"
  }
 },
 "nbformat": 4,
 "nbformat_minor": 2
}
